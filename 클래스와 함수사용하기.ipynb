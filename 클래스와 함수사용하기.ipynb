{
 "cells": [
  {
   "cell_type": "code",
   "execution_count": null,
   "id": "1b8ede6c-be16-4ab7-83b4-4735e06fd2d4",
   "metadata": {},
   "outputs": [
    {
     "name": "stdout",
     "output_type": "stream",
     "text": [
      "나이: 28\n",
      "이름: 페이커\n",
      "성별: male\n"
     ]
    },
    {
     "name": "stdout",
     "output_type": "stream",
     "text": [
      "이름 :페이커, 성별 : male,\n",
      "나이 :28,\n"
     ]
    }
   ],
   "source": [
    "class person(): #클래스만들기\n",
    "    def __init__(self,name,gender,age): #def,self는 같이\n",
    "        self.name = name #변수저장\n",
    "        self.gender = gender\n",
    "        self.age = age\n",
    "        \n",
    "    def display(self): #정보를 출력하는 함수사용\n",
    "        print(f'이름 :{self.name}, 성별 : {self.gender},')\n",
    "        print(f'나이 :{self.age},')\n",
    "age = int(input(\"나이:\"))  #나이,이름,성별 입력하기\n",
    "name = input(\"이름:\")\n",
    "gender = input(\"성별:\")\n",
    "\n",
    "a = person(name,gender,age)\n",
    "a.display() #화면에 결과송출하기\n",
    "\n"
   ]
  },
  {
   "cell_type": "code",
   "execution_count": null,
   "id": "35818b50-ed28-4320-975d-f19eed7965ac",
   "metadata": {},
   "outputs": [],
   "source": []
  }
 ],
 "metadata": {
  "kernelspec": {
   "display_name": "pandas_course",
   "language": "python",
   "name": "kobert"
  },
  "language_info": {
   "codemirror_mode": {
    "name": "ipython",
    "version": 3
   },
   "file_extension": ".py",
   "mimetype": "text/x-python",
   "name": "python",
   "nbconvert_exporter": "python",
   "pygments_lexer": "ipython3",
   "version": "3.13.0"
  }
 },
 "nbformat": 4,
 "nbformat_minor": 5
}
