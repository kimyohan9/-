{
 "cells": [
  {
   "cell_type": "code",
   "execution_count": 12,
   "id": "456d82b2-69d3-4ee8-930c-168d82f25d3a",
   "metadata": {},
   "outputs": [],
   "source": [
    "import random"
   ]
  },
  {
   "cell_type": "code",
   "execution_count": 28,
   "id": "154040c0-22ab-44ed-87d5-92811fc5d5e2",
   "metadata": {},
   "outputs": [
    {
     "data": {
      "text/plain": [
       "1"
      ]
     },
     "execution_count": 28,
     "metadata": {},
     "output_type": "execute_result"
    }
   ],
   "source": [
    "number = random.randint(1, 10)"
   ]
  },
  {
   "cell_type": "code",
   "execution_count": null,
   "id": "17e87595-a553-4f4b-880e-9006274d2898",
   "metadata": {},
   "outputs": [],
   "source": [
    "import random #숫자를 랜덤하게 돌릴 수 있는 모듈\n",
    "number = random.randint(1, 10) #허용되는 숫자 지정\n",
    "while True: #반복문\n",
    "    a = int(input(\"예상 숫자 :\")) #입력칸\n",
    "    if a > number: #현재 숫자의 대한 힌트\n",
    "        print(\"너무큽니다. 다른번호를 입력하세요\")\n",
    "    elif a < number:\n",
    "        print(\"너무 작습니다. 다른번호를 입력하세요\")\n",
    "    else:\n",
    "        print(\"정답입니다!\")\n",
    "        break #정답일시 정지"
   ]
  },
  {
   "cell_type": "code",
   "execution_count": null,
   "id": "e02039e5-3069-4f89-ae78-320f4fde248d",
   "metadata": {},
   "outputs": [],
   "source": []
  }
 ],
 "metadata": {
  "kernelspec": {
   "display_name": "pandas_course",
   "language": "python",
   "name": "kobert"
  },
  "language_info": {
   "codemirror_mode": {
    "name": "ipython",
    "version": 3
   },
   "file_extension": ".py",
   "mimetype": "text/x-python",
   "name": "python",
   "nbconvert_exporter": "python",
   "pygments_lexer": "ipython3",
   "version": "3.13.0"
  }
 },
 "nbformat": 4,
 "nbformat_minor": 5
}
